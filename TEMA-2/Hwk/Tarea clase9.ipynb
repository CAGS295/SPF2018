{
 "cells": [
  {
   "cell_type": "markdown",
   "metadata": {},
   "source": [
    "Tarea Clase 9"
   ]
  },
  {
   "cell_type": "code",
   "execution_count": 9,
   "metadata": {},
   "outputs": [],
   "source": [
    "import numpy as np\n",
    "from numpy import random as r\n",
    "import matplotlib.pyplot as plt"
   ]
  },
  {
   "cell_type": "markdown",
   "metadata": {},
   "source": [
    ">### <font color ='red'> Ejemplo 3  **Tarea** \n",
    ">El tiempo en el cual un movimiento browniano se mantiene sobre su punto máximo en el intervalo [0,1] tiene una distribución\n",
    ">$$F(x)=\\frac{2}{\\pi}\\sin^{-1}(\\sqrt x),\\quad 0\\leq x\\leq 1$$ </font>"
   ]
  },
  {
   "cell_type": "code",
   "execution_count": 31,
   "metadata": {},
   "outputs": [],
   "source": [
    "samples = 1000\n",
    "x = list(map(lambda x: np.sin(x*np.pi/2)**2,r.rand(samples)))"
   ]
  },
  {
   "cell_type": "code",
   "execution_count": 32,
   "metadata": {},
   "outputs": [
    {
     "data": {
      "image/png": "[encoded data removed]",
      "text/plain": [
       "<Figure size 432x288 with 1 Axes>"
      ]
     },
     "metadata": {
      "needs_background": "light"
     },
     "output_type": "display_data"
    }
   ],
   "source": [
    "plt.hist(x,weights=np.ones(samples)/samples,bins=30)\n",
    "plt.show()"
   ]
  },
  {
   "cell_type": "markdown",
   "metadata": {},
   "source": [
    "### Ejemplo binomial: \n",
    "La distribución binomial modela el número de éxitos de n ensayos independientes donde hay una probabilidad p de éxito en cada ensayo.\n",
    "\n",
    "Generar una variable aletoria binomial con parámetros $n=10$ y $p=0.7$. Recordar que\n",
    "$$X\\sim binomial(n,p) \\longrightarrow p_i=P(X=i)=\\frac{n!}{i!(n-i)!}p^i(1-p)^{n-i},\\quad i=0,1,\\cdots,n$$\n",
    "> ## <font color ='red'>Tarea: Demostrar la validez de la siguiente ecuación\n",
    ">$$p_{i+1}=\\frac{n-i}{i+1}\\frac{p}{1-p} p_i \\longrightarrow \n",
    "\\text{Hablar de las ventajas que sea recursiva}$$"
   ]
  },
  {
   "cell_type": "markdown",
   "metadata": {},
   "source": [
    "\n",
    "\n",
    "$$p_{i+1}=\\frac{n!}{(i+1)!(n-(i+1))!}p^{i+1}(1-p)^{n-(i+1)} = \\frac{n!}{(i)!(i+1)\\frac{(n-i)!}{n-i}}\\frac{p^{i}p(1-p)^{n-i}}{1-p} = p_{i+1}=\\frac{n-i}{i+1}\\frac{p}{1-p} p_i $$\n",
    "\n",
    "$$\\longrightarrow \\text{Hablar de las ventajas que sea recursiva}$$\n",
    "\n",
    "Al ser recursiva podemos iterar para $i$ sin el costo computacional de usar factoriales."
   ]
  },
  {
   "cell_type": "markdown",
   "metadata": {},
   "source": [
    "> ## <font color ='red'>Tarea\n",
    "Seguir un procedimiento similar al mostrado anteriormente para generar una  distribución Binomial, pero en esta caso genere un código que genere variables aletorias Poisson cuya función de distribución de probabilidad esta dada por:\n",
    ">$$P(k,\\lambda)=\\frac{e^{-\\lambda}(\\lambda)^k}{k!}$$\n",
    "> Enlace: https://es.wikipedia.org/wiki/Distribuci%C3%B3n_de_Poisson"
   ]
  },
  {
   "cell_type": "code",
   "execution_count": 74,
   "metadata": {},
   "outputs": [],
   "source": [
    "def poisson(da):    \n",
    "    '''https://www.johndcook.com/blog/2010/06/14/generating-poisson-random-values/'''\n",
    "    l = np.exp(-da);k=0;p=1    \n",
    "    p*=r.uniform()\n",
    "    while(p>l):\n",
    "        k+=1\n",
    "        p*=r.uniform()        \n",
    "    return k"
   ]
  },
  {
   "cell_type": "code",
   "execution_count": 81,
   "metadata": {},
   "outputs": [
    {
     "data": {
      "image/png": "[encoded data removed]",
      "text/plain": [
       "<Figure size 936x288 with 2 Axes>"
      ]
     },
     "metadata": {
      "needs_background": "light"
     },
     "output_type": "display_data"
    }
   ],
   "source": [
    "# def D_binomial_intermedia(n,p,N):\n",
    "da=5\n",
    "samples = 10**5\n",
    "# p_acum = P_acum_Binomial(n,p)\n",
    "# u = np.random.rand(N)\n",
    "\n",
    "# # Gráfica de resultados\n",
    "plt.figure(figsize=[13,4])\n",
    "plt.subplot(121)\n",
    "plt.hist(list(map(lambda x:poisson(da),range(samples))),10,density=True,label='Usando función creada')\n",
    "plt.legend()\n",
    "\n",
    "plt.subplot(122)\n",
    "plt.hist(np.random.poisson(da,N),bins=10,density=True,label='Usando Numpy',weights=np.ones(N)/N)\n",
    "plt.legend()\n",
    "np.histogram\n",
    "plt.show()"
   ]
  },
  {
   "cell_type": "code",
   "execution_count": null,
   "metadata": {},
   "outputs": [],
   "source": []
  }
 ],
 "metadata": {
  "kernelspec": {
   "display_name": "Python 3",
   "language": "python",
   "name": "python3"
  },
  "language_info": {
   "codemirror_mode": {
    "name": "ipython",
    "version": 3
   },
   "file_extension": ".py",
   "mimetype": "text/x-python",
   "name": "python",
   "nbconvert_exporter": "python",
   "pygments_lexer": "ipython3",
   "version": "3.5.2"
  }
 },
 "nbformat": 4,
 "nbformat_minor": 2
}
