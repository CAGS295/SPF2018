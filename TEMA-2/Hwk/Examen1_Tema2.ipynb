{
 "cells": [
  {
   "cell_type": "markdown",
   "metadata": {},
   "source": [
    "___\n",
    "<img style=\"float: right; margin: 0px 0px 15px 15px;\" src=\"https://www.carrerasenlinea.mx/logos/original/logo-instituto-tecnologico-y-de-estudios-superiores-de-occidente.png\" width=\"150px\" height=\"100px\" />\n",
    "\n",
    "\n",
    "# SEGUNDO EXAMEN PARCIAL\n",
    "# SIMULACIÓN DE PROCESOS FINANCIEROS\n",
    "\n",
    "## Nombre:\n",
    "\n",
    "## Fecha: 19 de Octubre del 2018\n",
    "\n",
    "## Por: Carlos Alejandro Gutiérrez Sandoval"
   ]
  },
  {
   "cell_type": "code",
   "execution_count": 1,
   "metadata": {},
   "outputs": [],
   "source": [
    "'''Paquetería'''\n",
    "from scipy import stats as s\n",
    "import numpy as n\n",
    "from matplotlib import pyplot as plt"
   ]
  },
  {
   "cell_type": "markdown",
   "metadata": {},
   "source": [
    "# 1.\n",
    "La financiera ”El cerdito feliz” atiende la apertura de cuentas de ahorro en su sucursal matriz, en esta sucursal se tienen 4 ejecutivos para atención al inversionista, teniendo una media de tiempo para la atención de un cliente de 30 minutos, aunque con frecuencia se requiere que uno de los ejecutivos participe en juntas de evaluación de crédito, lo que provoca que el equipo de atención disminuya a 3 ejecutivos y en estas circunstancias el promedio de atención por cliente aumenta a 45 minutos. El tiempo entre la llegada de cada cliente en promedio es de 25 minutos, si la apertura de la sucursal es a las 9:00 a.m. y cierra su atención al público a las 14:00 horas, realiza una simulación de mímino 1000 escenarios y responda."
   ]
  },
  {
   "cell_type": "code",
   "execution_count": 2,
   "metadata": {},
   "outputs": [],
   "source": [
    "tiempo_expon = lambda media: s.expon.rvs(scale=media)"
   ]
  },
  {
   "cell_type": "code",
   "execution_count": 3,
   "metadata": {},
   "outputs": [
    {
     "data": {
      "image/png": "[encoded data removed]",
      "text/plain": [
       "<Figure size 432x288 with 1 Axes>"
      ]
     },
     "metadata": {
      "needs_background": "light"
     },
     "output_type": "display_data"
    },
    {
     "name": "stdout",
     "output_type": "stream",
     "text": [
      "E[x] 25.453491099242143\n"
     ]
    }
   ],
   "source": [
    "''' Confirmamos que visualmente la distribución generada es exponencial'''\n",
    "test =[tiempo_expon(25) for i in range(1000)]\n",
    "plt.hist(test,bins =30)\n",
    "plt.show()\n",
    "print('E[x]',n.mean(test))"
   ]
  },
  {
   "cell_type": "markdown",
   "metadata": {},
   "source": [
    "<div style=\"text-align:justify\">\n",
    "a) Justifique que tipo de distribuciones de probabilidad va a utilizar para realizar montecarlo.\n",
    "    \n",
    "La distribucion de elección es una exponencial. La exponencial es un caso particular de una distribución gamma. Esta distibución modela el tiempo transcurrido entre dos eventos. Para el caso de atención a clientes, podríamos describir al intervalo entre inicio de atención al cliente y su fin como un intervalo de tiempo que sigue una distribución exponencial. Es decir el tiempo que toma entre la atención de cada cliente es siempre mayor a 0, se acerca mucho a su media y va disminuyendo de manera geométrica, la probabilidad de que el tiempo de atención se alargue; de igual manera se aplica al intervalo de tiempo entre el arrivo de dos clientes a la sucursal. Como contra parte la probabilidad que sucedan x cantidad de eventos en una determinada unidad de tiempo sigue una distribución de poisson. Vemos que el periodo de tiempo de la financiera son 5 horas. El número de cliente que llegarán en esas 5 horas sigue una distribución de poisson. La financiera debe atender la mayor cantidad de esos clientes como le sea posible. \n",
    "    </div>"
   ]
  },
  {
   "cell_type": "markdown",
   "metadata": {},
   "source": [
    "b). ¿Cuántas personas se atenderán hasta las 14:00 horas, si el equipo está formado solo por 3 ejecutivos?, ¿cuántos quedarán en cola?"
   ]
  },
  {
   "cell_type": "markdown",
   "metadata": {},
   "source": [
    "Definamos un ambiente local para eficientar el acceso del kernel a las variables y no confundir variables. Creamos clases para la simulación.\n",
    "\n",
    "Supuesto:\n",
    " - El que está siendo atendido a las 14:00 se termina de atender.\n",
    " - En la hora de apertura no hay clientes esperando."
   ]
  },
  {
   "cell_type": "code",
   "execution_count": 4,
   "metadata": {},
   "outputs": [],
   "source": [
    "class simulacion:\n",
    "    '''Constructor para iniciar nuestro objeto simulador,\n",
    "    iniciamos las variables que no cambian en todo el proceso de simulación como el tiempo toal,\n",
    "    los generadores de clientes y de atención.\n",
    "    '''\n",
    "    def __init__(self,tiempo:'minutos',atencion:'generador',llegada:'generador'):\n",
    "        self.time = tiempo\n",
    "        self.A = atencion\n",
    "        self.LL = llegada        \n",
    "            \n",
    "    '''Generador de número de clientes y cuánto tarda en llegar el primero'''\n",
    "    \n",
    "    '''Genera el número de clientes de la jornada y calcula cuanto tiempo tardas en aten'''   \n",
    "\n",
    "    '''En este método se ejecuta el proceso de simulación.El proceso a seguir es el siguiente:\n",
    "        Se tiene en una cola los clientes predispuestos a llegar dentro del tiempo de simulación.\n",
    "        En cada instante se procesa un cliente y se calcula el tiempo trasncurrido.\n",
    "        Se procesan clientes hasta agotar el tiempo.\n",
    "        El cáculo del tiempo transcurrido depende del estado de la simulación.\n",
    "        En términos generales al llegar un cliente se calcula si se alcanza a\n",
    "        atender antes de que llegue otro cliente, si se alcanza a atender,\n",
    "        el tiempo transcurrido aumenta lo que tarde en llegar el otro cliente.\n",
    "        De lo contrario el tiempo aumenta lo que tarde este en ser atendido;\n",
    "        Se hacen los ajustes pertinentes para atender este estado, cómo sumarle\n",
    "        al tiempo de atención del siguiente cliente el tiempo que tuvo que esperar\n",
    "        en ser atendido. \n",
    "    '''\n",
    "    def sim2(self):\n",
    "        done=0\n",
    "        sync = True\n",
    "        queue = self.nC()\n",
    "        overtime = 0        \n",
    "        timeTotal = queue.pop(0)    \n",
    "        while timeTotal < self.time:\n",
    "            try:\n",
    "                arrival = queue.pop(0)\n",
    "            except:\n",
    "                break\n",
    "            dispatch = self.A()     \n",
    "            overtime += dispatch - arrival       \n",
    "#             print('Done',done,'queued',len(queue),'time',timeTotal,'dispatch',dispatch,'arrival',arrival,'overtime',overtime)\n",
    "            if overtime > 0:\n",
    "                timeTotal += dispatch\n",
    "                sync = False\n",
    "            elif not sync:                \n",
    "                timeTotal += dispatch - overtime\n",
    "                overtime=0\n",
    "                sync = True\n",
    "            else:\n",
    "                timeTotal += arrival\n",
    "                overtime=0                \n",
    "            done +=1            \n",
    "#         print('Done',done,'queued',len(queue),'time',timeTotal,'dispatch',dispatch,'arrival',arrival,'overtime',overtime)\n",
    "        return(done,len(queue))            \n",
    "        \n",
    "    '''Este método se encarga de generar una lista con\n",
    "       los tiempos de los clientes en el intervalo de tiempo del objeto.'''\n",
    "    def nC(self):                \n",
    "        i = 0\n",
    "        t = list()\n",
    "        while(i<self.time):\n",
    "            gen = self.LL()\n",
    "            t.append(gen)\n",
    "            i += gen\n",
    "        return t            "
   ]
  },
  {
   "cell_type": "code",
   "execution_count": 35,
   "metadata": {},
   "outputs": [
    {
     "data": {
      "image/png": "[encoded data removed]",
      "text/plain": [
       "<Figure size 432x288 with 1 Axes>"
      ]
     },
     "metadata": {
      "needs_background": "light"
     },
     "output_type": "display_data"
    },
    {
     "name": "stdout",
     "output_type": "stream",
     "text": [
      "Media clientes completados: 6.5107\n",
      "Media clientes en espera: 5.494\n"
     ]
    }
   ],
   "source": [
    "def ambiente2():\n",
    "    media = {4:30,3:45}\n",
    "    media_llegada = 25\n",
    "    horas_abierto = 5\n",
    "    N1 = 10000\n",
    "    ss=simulacion(horas_abierto*60,lambda: tiempo_expon(media[3]),lambda: tiempo_expon(media_llegada))\n",
    "#     ss.sim2()\n",
    "    x,y=zip(*[ss.sim2()for i in range(N1)])\n",
    "    plt.hist(x,alpha=.55, label = 'Completados')\n",
    "    plt.hist(y,alpha=.55, label= 'En espera')\n",
    "    plt.legend()\n",
    "    plt.show()\n",
    "    print('Media clientes completados:',n.mean(x))\n",
    "    print('Media clientes en espera:',n.mean(y))\n",
    "ambiente2()"
   ]
  },
  {
   "cell_type": "markdown",
   "metadata": {},
   "source": [
    "c). ¿Cuántas personas se atenderán hasta las 14:00 horas, si el equipo está formado solo por 4 ejecutivos?, ¿Cuántos quedarán en cola?"
   ]
  },
  {
   "cell_type": "code",
   "execution_count": 34,
   "metadata": {},
   "outputs": [
    {
     "data": {
      "image/png": "[encoded data removed]",
      "text/plain": [
       "<Figure size 432x288 with 1 Axes>"
      ]
     },
     "metadata": {
      "needs_background": "light"
     },
     "output_type": "display_data"
    },
    {
     "name": "stdout",
     "output_type": "stream",
     "text": [
      "Media clientes Completados: 8.5373\n",
      "Media clientes en espera: 3.4827\n"
     ]
    }
   ],
   "source": [
    "def ambiente2():\n",
    "    media = {4:30,3:45}\n",
    "    media_llegada = 25\n",
    "    horas_abierto = 5\n",
    "    N1 = 10000\n",
    "    ss=simulacion(horas_abierto*60,lambda: tiempo_expon(media[4]),lambda: tiempo_expon(media_llegada))\n",
    "#     ss.sim2()\n",
    "    x,y=zip(*[ss.sim2()for i in range(N1)])\n",
    "    plt.hist(x,alpha=.55, label = 'Completados')\n",
    "    plt.hist(y,alpha=.55, label= 'En espera')\n",
    "    plt.legend()\n",
    "    plt.show()\n",
    "    print('Media clientes completados:',n.mean(x))\n",
    "    print('Media clientes en espera:',n.mean(y))\n",
    "ambiente2()"
   ]
  },
  {
   "cell_type": "markdown",
   "metadata": {},
   "source": [
    "# 2 \n",
    "a). Demuestre que la distribución de poisson satisface la siguiente forma recursiva de su probabilidad\n",
    "$$ p(k+1)={\\lambda \\over k+1}p(k)$$\n",
    "\n",
    "Realizar todo el desarrollo matemático en mardown usando ecuaciones latex.\n",
    "\n"
   ]
  },
  {
   "cell_type": "markdown",
   "metadata": {},
   "source": [
    "$\\forall k:k >0:$"
   ]
  },
  {
   "cell_type": "markdown",
   "metadata": {},
   "source": [
    "\n",
    "$P(0) = \\frac { e^{-\\lambda}}{0!},$\n",
    "$P(1) = \\frac {\\lambda^1 e^{-\\lambda}}{1!} = \\frac {\\lambda e^{-\\lambda}}{(1)0!},$\n",
    "$P(2) = \\frac {\\lambda^2 e^{-\\lambda}}{2!}= \\frac { \\lambda \\lambda  e^{-\\lambda}}{(2)(1)0!},$\n",
    "$P(3) = \\frac {\\lambda^3 e^{-\\lambda}}{3!}= \\frac { \\lambda \\lambda \\lambda  e^{-\\lambda}}{(3)(2)(1)0!},$\n",
    "$P(k) = \\frac {\\lambda^k e^{-\\lambda}}{k!} =\\frac{\\lambda}{k}P(k-1)$"
   ]
  },
  {
   "cell_type": "markdown",
   "metadata": {},
   "source": [
    "b). De el resultado demostrado en el inciso a) (usando la ecuación recursiva), gráfique la función de distribución de probabilidad y su función acumulada, para $\\lambda = [4,10,30]$, valide sus resultados comparando con el paquete estadístico `scipy.stats`. Posteriormente, genere muestras aletorias que distribuyan poisson con el conjunto de parámetros lambda dados y realice el histograma correspondiente (en gráficas distintas para cada lambda), validando lo obtenido al graficar la función de densidad de probabilidad. **Nota**: Recuerde que la distribución de poisson es una distribución de probabilidad discreta así que el histograma debe ser discreto y no continuo."
   ]
  },
  {
   "cell_type": "code",
   "execution_count": 7,
   "metadata": {},
   "outputs": [],
   "source": [
    "def poissonGen(mu):\n",
    "    '''Generador de función de distribución de probabilidad'''\n",
    "    k = 0\n",
    "    prev = n.exp(-mu)   \n",
    "    while True:        \n",
    "        yield(prev)    \n",
    "        k +=1\n",
    "        prev = mu*prev/k"
   ]
  },
  {
   "cell_type": "code",
   "execution_count": 8,
   "metadata": {},
   "outputs": [],
   "source": [
    "def poissonRVS(N,mu):   \n",
    "    '''Generador de variables'''\n",
    "    rs = n.random.rand(N)\n",
    "    def compare(x):\n",
    "        gen = CumPoisson(mu)\n",
    "        v = 0        \n",
    "        while (x >= next(gen)):\n",
    "            v+=1\n",
    "        return v\n",
    "    return list(map(lambda x:compare(x),rs))"
   ]
  },
  {
   "cell_type": "code",
   "execution_count": 9,
   "metadata": {},
   "outputs": [],
   "source": [
    "def CumPoisson(mu):\n",
    "    '''Generador de función de distribución acumulada'''\n",
    "    gen = poissonGen(mu)\n",
    "    current = next(gen)\n",
    "    while True:\n",
    "        yield current\n",
    "        current += next(gen)"
   ]
  },
  {
   "cell_type": "code",
   "execution_count": 38,
   "metadata": {},
   "outputs": [
    {
     "data": {
      "image/png": "[encoded data removed]",
      "text/plain": [
       "<Figure size 1296x360 with 3 Axes>"
      ]
     },
     "metadata": {
      "needs_background": "light"
     },
     "output_type": "display_data"
    },
    {
     "data": {
      "image/png": "[encoded data removed]",
      "text/plain": [
       "<Figure size 1296x360 with 3 Axes>"
      ]
     },
     "metadata": {
      "needs_background": "light"
     },
     "output_type": "display_data"
    },
    {
     "data": {
      "image/png": "[encoded data removed]",
      "text/plain": [
       "<Figure size 1296x360 with 3 Axes>"
      ]
     },
     "metadata": {
      "needs_background": "light"
     },
     "output_type": "display_data"
    }
   ],
   "source": [
    "mu = [4,10,30]\n",
    "for i in mu:    \n",
    "    plt.figure(figsize=(18,5))\n",
    "    p = s.poisson(mu=i)\n",
    "    x = n.arange(3*i)\n",
    "    y = p.pmf(x)\n",
    "    a = poissonGen(i)\n",
    "    plt.subplot(131)\n",
    "    gen = [next(a) for i in x]\n",
    "    plt.title('PDF $\\lambda$= {}'.format(i))\n",
    "    plt.plot(x,gen,c='r',label='CAGS')\n",
    "    plt.stem(y,label='Scipy')\n",
    "    plt.legend()\n",
    "    plt.subplot(132)\n",
    "    plt.title('CDF $\\lambda$= {}'.format(i))\n",
    "    plt.plot(x,n.cumsum(gen),c='r',label='CAGS')\n",
    "    plt.stem(n.cumsum(y),label='Scipy')    \n",
    "    plt.legend()\n",
    "    plt.subplot(133)\n",
    "    plt.title('RVS $\\lambda$= {}'.format(i))\n",
    "    sample = poissonRVS(1000,i)    \n",
    "    plt.hist(sample,label='CAGS',width=.5,density=True,bins=len(n.unique(sample)))\n",
    "    plt.legend()\n",
    "    plt.show()"
   ]
  },
  {
   "cell_type": "markdown",
   "metadata": {},
   "source": [
    "# 3\n",
    "Demostrar **Teoricamente** usando el método de máxima verosimilitud, que los estimadores para los parámetros $\\mu$ y $\\sigma$ de una distribución normal, estan dados por:\n",
    "\n",
    "$$\\hat \\mu = {1\\over n}\\sum_{i=1}^n x_i,\\quad \\hat  \\sigma^2={1\\over n}\\sum_{i=1}^n (x_i-\\hat \\mu)^2$$\n",
    "\n",
    "**Recuerde que:** La distribución normal es\n",
    "$$f(x\\mid \\mu ,\\sigma ^{2})={\\frac {1}{\\sqrt {2\\pi \\sigma ^{2}}}}e^{-{\\frac {(x-\\mu )^{2}}{2\\sigma ^{2}}}}$$\n",
    "\n",
    "Reporte su respuesta usando markdown-latex"
   ]
  },
  {
   "cell_type": "markdown",
   "metadata": {},
   "source": [
    "$$ l(x)= \\prod_i^n f(x_i\\mid \\mu ,\\sigma ^{2})$$"
   ]
  },
  {
   "cell_type": "markdown",
   "metadata": {},
   "source": [
    "Es conveniente trabajar con $\\log l(x)=\\log(l(x))$"
   ]
  },
  {
   "cell_type": "markdown",
   "metadata": {},
   "source": [
    "$l(x)= (2\\pi \\sigma^2)^{-n/2}e^{-\\frac{\\sum_i^n(x_i-\\mu)^2}{2\\sigma^2}} \\rightarrow log(l(x)) = \\frac{-n}{2}ln(2\\pi \\sigma^2)-\\frac{\\sum_i^n (x_i-\\mu)^2}{2\\sigma^2}$"
   ]
  },
  {
   "cell_type": "markdown",
   "metadata": {},
   "source": [
    "$\\frac{\\partial l}{\\partial \\mu} = -2\\frac{-\\sum x_i + \\mu n}{2\\sigma ^2} \\rightarrow 0$ , despejamos $\\mu$"
   ]
  },
  {
   "cell_type": "markdown",
   "metadata": {},
   "source": [
    "$\\sum x_i = \\mu n \\rightarrow \\mu = \\frac{\\sum_{i=0}^n x_i}{n}$"
   ]
  },
  {
   "cell_type": "markdown",
   "metadata": {},
   "source": [
    "$\\frac{\\partial l}{\\partial \\sigma} = \\frac 1 2 [-n \\frac{4\\pi\\sigma}{2\\pi\\sigma^2}+2\\sigma^{-3}\\sum(x_i-\\mu)^2] \\rightarrow 0$ , despejamos $\\sigma^2$"
   ]
  },
  {
   "cell_type": "markdown",
   "metadata": {},
   "source": [
    "$\\frac{n}{\\sigma}=\\sum(x_i-\\mu)^2\\sigma^{-3} \\rightarrow \\sigma^2 = \\frac{\\sum(x_i-\\mu)^2}{n}$"
   ]
  },
  {
   "cell_type": "markdown",
   "metadata": {},
   "source": [
    "$\\mu = \\frac{\\sum_{i=0}^n x_i}{n},\\sigma^2 = \\frac{\\sum(x_i-\\mu)^2}{n}$"
   ]
  },
  {
   "cell_type": "markdown",
   "metadata": {},
   "source": [
    "# 4\n",
    "Un banco, de acuerdo a la ley, tienen la posibilidad de poder invertir las utilidades logradas por créditos de trabajo quirografarios en dos diferentes instrumentos de inversión: El primero es inversión en deuda que presenta una utilidad promedio del 23.5% con una desviación estándar de 1.1%. El segundo es inversión a plazo donde la rentabilidad esperada se comporta como una distribución uniforme y está entre el -2% y el 9%, pero nunca entre -0.5% y 0.5%. Calcular cuál es la mejor combinación posible, si la inversión será en múltiplos de 25%, es decir (inv1 25%, Inv2 75%)-(Inv1 50%,Inv2 50%)-(Inv1 75%, Inv2 25%), simular 1000 veces (escenarios) e indicar rendimientos promedio por combinación."
   ]
  },
  {
   "cell_type": "markdown",
   "metadata": {},
   "source": [
    "a1 : $N(.23,.011^2)$, a2:$U$"
   ]
  },
  {
   "cell_type": "markdown",
   "metadata": {},
   "source": [
    "Combinaciónes, función de ponderaciones lineales, cantidad de muestras y muestro de activo normal:"
   ]
  },
  {
   "cell_type": "code",
   "execution_count": 11,
   "metadata": {},
   "outputs": [],
   "source": [
    "c = [(0,1),(.25,.75),(.5,.5),(.75,.25),(1,0)]\n",
    "r = lambda x,y,w: x*w[0] + y*w[1]\n",
    "smple = 1000\n",
    "a1 = n.random.normal(.235,.011,smple)"
   ]
  },
  {
   "cell_type": "markdown",
   "metadata": {},
   "source": [
    "Función de probabilidad acumulada para activo con intervalo constante"
   ]
  },
  {
   "cell_type": "code",
   "execution_count": 12,
   "metadata": {},
   "outputs": [],
   "source": [
    "def F(x):\n",
    "    a,b,c,d = (-.02,-.005,.005,.09)\n",
    "    if(a <= x and x <= b):\n",
    "        return (x-a)/(d-c+b-a)\n",
    "    elif(b < x and x < c):\n",
    "        return (b-a)/(d-c+b-a)        \n",
    "    elif(c <= x and x <= d):\n",
    "        return (x-c+b-a)/(d-c+b-a)"
   ]
  },
  {
   "cell_type": "markdown",
   "metadata": {},
   "source": [
    "Estructura de la función de probabilidad acumulada."
   ]
  },
  {
   "cell_type": "code",
   "execution_count": 13,
   "metadata": {},
   "outputs": [
    {
     "data": {
      "image/png": "[encoded data removed]",
      "text/plain": [
       "<Figure size 432x288 with 1 Axes>"
      ]
     },
     "metadata": {
      "needs_background": "light"
     },
     "output_type": "display_data"
    }
   ],
   "source": [
    "def aux(): \n",
    "    '''Ambiente autocontenido'''\n",
    "    a,b,c,d = (-.02,-.005,.005,.09)\n",
    "    x=n.linspace(a,d,100)\n",
    "    plt.plot(x,[F(i) for i in x])\n",
    "    plt.show()\n",
    "aux()"
   ]
  },
  {
   "cell_type": "markdown",
   "metadata": {},
   "source": [
    "Función Inversa"
   ]
  },
  {
   "cell_type": "code",
   "execution_count": 14,
   "metadata": {},
   "outputs": [],
   "source": [
    "def F_1(x):\n",
    "    a,b,c,d = (-.02,-.005,.005,.09)\n",
    "    den = (d-c+b-a)\n",
    "    if(0 <= x and x <= (b-a)/den):\n",
    "        return x*den+a\n",
    "    elif((b-a)/den < x and x <= 1):\n",
    "        return x*den+c-b+a"
   ]
  },
  {
   "cell_type": "markdown",
   "metadata": {},
   "source": [
    "Generamos los aleatorios."
   ]
  },
  {
   "cell_type": "code",
   "execution_count": 15,
   "metadata": {},
   "outputs": [],
   "source": [
    "a2=list(map(lambda x:F_1(x),n.random.rand(10000)))"
   ]
  },
  {
   "cell_type": "markdown",
   "metadata": {},
   "source": [
    "La distribución del activo uniforme se generó correctamente."
   ]
  },
  {
   "cell_type": "code",
   "execution_count": 16,
   "metadata": {},
   "outputs": [
    {
     "data": {
      "image/png": "[encoded data removed]",
      "text/plain": [
       "<Figure size 432x288 with 1 Axes>"
      ]
     },
     "metadata": {
      "needs_background": "light"
     },
     "output_type": "display_data"
    }
   ],
   "source": [
    "plt.hist(a2,bins=30)\n",
    "plt.show()"
   ]
  },
  {
   "cell_type": "code",
   "execution_count": 17,
   "metadata": {},
   "outputs": [
    {
     "name": "stdout",
     "output_type": "stream",
     "text": [
      "La mejor combinación de activos es : (1, 0)\n"
     ]
    }
   ],
   "source": [
    "print('La mejor combinación de activos es :',c[n.argmax([r(n.mean(a1),n.mean(a2),i) for i in c])])"
   ]
  },
  {
   "cell_type": "markdown",
   "metadata": {},
   "source": [
    "Bastante sencillo el resultado si consideramos que un activo es normal centrado en 23.5% con desviación 1.1% y el otro uniforme sin siquiera alcanzar 10% como cota superior."
   ]
  },
  {
   "cell_type": "markdown",
   "metadata": {},
   "source": [
    "# 5\n",
    "Considere la siguiente función de distribución de probabilidad\n",
    "$$ f(x)=\\begin{cases}400e^{-400(x-1)},& \\text{para }x\\geq 1\\\\0,& \\text{otro caso}\\end{cases}$$\n",
    "\n",
    "a). Para realizar una comparación, realice el desarrollo analítico del valor esperado."
   ]
  },
  {
   "cell_type": "markdown",
   "metadata": {},
   "source": [
    "$u= -400(x-1), du=-400dx \\rightarrow -\\int_0^{-\\inf}e^udu$"
   ]
  },
  {
   "cell_type": "markdown",
   "metadata": {},
   "source": [
    "Centro de masa respecto a $u :\\frac{-1}{-\\inf-0}e^u\\big |_0^{-\\inf}=0 \\rightarrow e^0 \\rightarrow E[x] = 1$"
   ]
  },
  {
   "cell_type": "code",
   "execution_count": 18,
   "metadata": {},
   "outputs": [
    {
     "data": {
      "image/png": "[encoded data removed]",
      "text/plain": [
       "<Figure size 432x288 with 1 Axes>"
      ]
     },
     "metadata": {
      "needs_background": "light"
     },
     "output_type": "display_data"
    }
   ],
   "source": [
    "x = n.linspace(1,1.05,1000)\n",
    "f = lambda x:400*n.exp(-400*(x-1))\n",
    "plt.plot(x,f(x))\n",
    "plt.show()"
   ]
  },
  {
   "cell_type": "markdown",
   "metadata": {},
   "source": [
    "b). Realice el desarrollo teórico para obtener muestras aletorias de esta distribución usando el método de la función inversa. Con los resultados obtenidos, genere 100 muestras y  grafique el histograma de dichas muestras aleatorias obtenidas y a su vez la función de densidad f(x), para validar los resultados obtenidos."
   ]
  },
  {
   "cell_type": "markdown",
   "metadata": {},
   "source": [
    "Con la transformación $u = g(x)$ anterior y el desarrollo de a):\n",
    "$F(x) = -e^{-400(x-1)}$"
   ]
  },
  {
   "cell_type": "code",
   "execution_count": 19,
   "metadata": {},
   "outputs": [],
   "source": [
    "F_1 = lambda x: -n.log(x)/400+1\n",
    "f = lambda x: 400*n.exp(-400*(x-1))\n",
    "'''Función a ser propuesta'''\n",
    "f1 = lambda x: 400/x**300"
   ]
  },
  {
   "cell_type": "markdown",
   "metadata": {},
   "source": [
    "$c = \\frac{-400}{299}x^{-299}\\big|_1^\\inf=\\frac{400}{299}$"
   ]
  },
  {
   "cell_type": "code",
   "execution_count": 20,
   "metadata": {},
   "outputs": [],
   "source": [
    "F1_1 = lambda x: (1/x)**(1./299)\n",
    "c =400/299"
   ]
  },
  {
   "cell_type": "markdown",
   "metadata": {},
   "source": [
    "De una vez generamos graficamos una función para usar el método de aceptación y rechazo."
   ]
  },
  {
   "cell_type": "code",
   "execution_count": 21,
   "metadata": {},
   "outputs": [
    {
     "data": {
      "image/png": "[encoded data removed]",
      "text/plain": [
       "<Figure size 432x288 with 1 Axes>"
      ]
     },
     "metadata": {
      "needs_background": "light"
     },
     "output_type": "display_data"
    }
   ],
   "source": [
    "plt.hist(F_1(n.random.rand(100)),bins=20,density=True)\n",
    "x=n.linspace(1,1.02,100)\n",
    "plt.plot(x,f(x),label='A generar')\n",
    "plt.plot(x,f1(x),label='Propuesta para A/R')\n",
    "plt.legend()\n",
    "plt.show()"
   ]
  },
  {
   "cell_type": "markdown",
   "metadata": {},
   "source": [
    "c). Repita el inciso anterior pero en esta ocasión utilice el método de aceptación y rechazo para generar las muestras aleatorias."
   ]
  },
  {
   "cell_type": "code",
   "execution_count": 22,
   "metadata": {},
   "outputs": [],
   "source": [
    "ns = 1000*400//299\n",
    "u1 = n.random.rand(ns)\n",
    "Y = F1_1(n.random.rand(ns))\n",
    "zipped = zip(u1,Y)\n",
    "aa=list(filter(lambda x: x[0]*f1(x[1])<f(x[1]),zipped))\n",
    "_,u2=zip(*aa)"
   ]
  },
  {
   "cell_type": "code",
   "execution_count": 39,
   "metadata": {},
   "outputs": [
    {
     "name": "stderr",
     "output_type": "stream",
     "text": [
      "/usr/local/lib/python3.5/dist-packages/ipykernel_launcher.py:2: RuntimeWarning: invalid value encountered in sqrt\n",
      "  \n"
     ]
    },
    {
     "data": {
      "image/png": "[encoded data removed]",
      "text/plain": [
       "<Figure size 432x288 with 1 Axes>"
      ]
     },
     "metadata": {
      "needs_background": "light"
     },
     "output_type": "display_data"
    }
   ],
   "source": [
    "plt.hist(u2,bins=30,density=True)\n",
    "x=n.linspace(1,1.02,100)\n",
    "plt.plot(x,f(x),label='A generar')\n",
    "plt.legend()\n",
    "plt.show()"
   ]
  },
  {
   "cell_type": "markdown",
   "metadata": {},
   "source": [
    "\n",
    "\n",
    "**Se desea estimar la media de esta distribución, usando el método montecarlo crudo y sus técnicas de reducción de varianza con muestras de tamaño 10,100 y 1000. Estas cantidades de muestras para cada uno de los siguientes literales:** \n",
    "\n",
    "d). Use el método de montecarlo crudo para estimar la media."
   ]
  },
  {
   "cell_type": "code",
   "execution_count": 24,
   "metadata": {},
   "outputs": [],
   "source": [
    "# F_1(n.random.rand(100))\n",
    "A = 1\n",
    "seq = [100,1000,10000,1000000]\n",
    "res = list(map(lambda x:n.mean(list(map(lambda x:F_1(x),n.random.rand(x)))),seq))"
   ]
  },
  {
   "cell_type": "markdown",
   "metadata": {},
   "source": [
    "e). Use el método de muestreo estratificado con 5 estratos $0\\leq F(x)\\leq0.3, 0.3\\leq F(x)\\leq0.5, 0.5\\leq F(x)\\leq0.7, 0.7\\leq F(x)\\leq0.9 $ y $0.9\\leq F(x) \\leq 1$. Reparta el total de muestras en los estratos de la siguiente forma: estrato 1, 2, 3, 4, 5, 20%,20%,25%,15% y 20% de las muestras respectivamente."
   ]
  },
  {
   "cell_type": "code",
   "execution_count": 25,
   "metadata": {},
   "outputs": [],
   "source": [
    "strat = []\n",
    "for i in seq:\n",
    "    a,b,c = (int(.2*i),int(.25*i),int(.15*i))    \n",
    "    r1 = n.random.uniform(0,.3,a)\n",
    "    r2 = n.random.uniform(.3,.5,a)\n",
    "    r3 = n.random.uniform(.5,.7,b)\n",
    "    r4 = n.random.uniform(.7,.9,c)\n",
    "    r5 = n.random.uniform(.9,1,a)\n",
    "    r  = [r1,r2,r3,r4,r5]\n",
    "    m  = range(len(r))  # Cantidad de estratos\n",
    "    w  = [.3/a,.2/a,.2/b,.2/c,.1/a]\n",
    "    estrat1 = list(map(lambda r:n.array(list(map(F_1,r))),r))\n",
    "    muestras = list(map(lambda wi,xi:xi*wi,w,estrat1))\n",
    "    strat.append(n.concatenate(muestras).sum()) "
   ]
  },
  {
   "cell_type": "markdown",
   "metadata": {},
   "source": [
    "f). Use el método de los números complementarios."
   ]
  },
  {
   "cell_type": "code",
   "execution_count": 26,
   "metadata": {},
   "outputs": [],
   "source": [
    "comp=[n.mean([(F_1(u)+F_1(1-u))/2 for u in n.random.rand(i//2)]) for i in seq]"
   ]
  },
  {
   "cell_type": "markdown",
   "metadata": {},
   "source": [
    "g). Finalmente use el método de estratificación en el cúal se divide en N estratos."
   ]
  },
  {
   "cell_type": "code",
   "execution_count": 27,
   "metadata": {},
   "outputs": [],
   "source": [
    "partition = lambda B:(n.random.rand(B)+n.arange(B))/B\n",
    "Nstrat= [n.mean([F_1(x) for x in partition(i)]) for i in seq]"
   ]
  },
  {
   "cell_type": "markdown",
   "metadata": {},
   "source": [
    "h). Compare todos los resulados obtenidos con cada método en una tabla unsando la librería pandas, donde muestre segun la cantidad de términos usados, la aproximación de la media aproximada y su **error relativo con el valor obtenido en el inciso a).**"
   ]
  },
  {
   "cell_type": "code",
   "execution_count": 28,
   "metadata": {},
   "outputs": [
    {
     "data": {
      "text/html": [
       "<div>\n",
       "<style scoped>\n",
       "    .dataframe tbody tr th:only-of-type {\n",
       "        vertical-align: middle;\n",
       "    }\n",
       "\n",
       "    .dataframe tbody tr th {\n",
       "        vertical-align: top;\n",
       "    }\n",
       "\n",
       "    .dataframe thead th {\n",
       "        text-align: right;\n",
       "    }\n",
       "</style>\n",
       "<table border=\"1\" class=\"dataframe\">\n",
       "  <thead>\n",
       "    <tr style=\"text-align: right;\">\n",
       "      <th></th>\n",
       "      <th>Montecarlo</th>\n",
       "      <th>Error M</th>\n",
       "      <th>Estratificado</th>\n",
       "      <th>Error E</th>\n",
       "      <th>N Estratificado</th>\n",
       "      <th>Error NE</th>\n",
       "      <th>Complementarios</th>\n",
       "      <th>Error C</th>\n",
       "      <th>Analítico</th>\n",
       "    </tr>\n",
       "  </thead>\n",
       "  <tbody>\n",
       "    <tr>\n",
       "      <th>100</th>\n",
       "      <td>1.002528</td>\n",
       "      <td>0.002528</td>\n",
       "      <td>1.002279</td>\n",
       "      <td>0.002279</td>\n",
       "      <td>1.002484</td>\n",
       "      <td>0.002484</td>\n",
       "      <td>1.002480</td>\n",
       "      <td>0.002480</td>\n",
       "      <td>1</td>\n",
       "    </tr>\n",
       "    <tr>\n",
       "      <th>1000</th>\n",
       "      <td>1.002442</td>\n",
       "      <td>0.002442</td>\n",
       "      <td>1.002542</td>\n",
       "      <td>0.002542</td>\n",
       "      <td>1.002497</td>\n",
       "      <td>0.002497</td>\n",
       "      <td>1.002456</td>\n",
       "      <td>0.002456</td>\n",
       "      <td>1</td>\n",
       "    </tr>\n",
       "    <tr>\n",
       "      <th>10000</th>\n",
       "      <td>1.002490</td>\n",
       "      <td>0.002490</td>\n",
       "      <td>1.002490</td>\n",
       "      <td>0.002490</td>\n",
       "      <td>1.002500</td>\n",
       "      <td>0.002500</td>\n",
       "      <td>1.002527</td>\n",
       "      <td>0.002527</td>\n",
       "      <td>1</td>\n",
       "    </tr>\n",
       "    <tr>\n",
       "      <th>1000000</th>\n",
       "      <td>1.002501</td>\n",
       "      <td>0.002501</td>\n",
       "      <td>1.002501</td>\n",
       "      <td>0.002501</td>\n",
       "      <td>1.002500</td>\n",
       "      <td>0.002500</td>\n",
       "      <td>1.002498</td>\n",
       "      <td>0.002498</td>\n",
       "      <td>1</td>\n",
       "    </tr>\n",
       "  </tbody>\n",
       "</table>\n",
       "</div>"
      ],
      "text/plain": [
       "         Montecarlo   Error M  Estratificado   Error E  N Estratificado  \\\n",
       "100        1.002528  0.002528       1.002279  0.002279         1.002484   \n",
       "1000       1.002442  0.002442       1.002542  0.002542         1.002497   \n",
       "10000      1.002490  0.002490       1.002490  0.002490         1.002500   \n",
       "1000000    1.002501  0.002501       1.002501  0.002501         1.002500   \n",
       "\n",
       "         Error NE  Complementarios   Error C  Analítico  \n",
       "100      0.002484         1.002480  0.002480          1  \n",
       "1000     0.002497         1.002456  0.002456          1  \n",
       "10000    0.002500         1.002527  0.002527          1  \n",
       "1000000  0.002500         1.002498  0.002498          1  "
      ]
     },
     "execution_count": 28,
     "metadata": {},
     "output_type": "execute_result"
    }
   ],
   "source": [
    "import pandas as pd\n",
    "df =pd.DataFrame(res,index=seq,columns=['Montecarlo'])\n",
    "df['Error M'] = df['Montecarlo']/A -1\n",
    "df['Estratificado'] = strat\n",
    "df['Error E'] = df['Estratificado']/A -1\n",
    "df['N Estratificado'] = Nstrat\n",
    "df['Error NE'] = df['N Estratificado']/A -1\n",
    "df['Complementarios'] = comp\n",
    "df['Error C'] = df['Complementarios']/A -1\n",
    "df['Analítico'] = A\n",
    "df"
   ]
  },
  {
   "attachments": {
    "imagen.png": {
     "image/png": "[encoded data removed]"
    }
   },
   "cell_type": "markdown",
   "metadata": {},
   "source": [
    "# 6\n",
    "![imagen.png](attachment:imagen.png)\n",
    "\n",
    "## <font color = 'red'> Nota: </font> Use el método de integración montecarlo visto en clase.\n",
    "    \n",
    "a). Use el método de montecarlo para aproximar el valor de pi para muestras de tamaño 100,1000,10000,1000000 y comparelo con su valor real. \n",
    "\n",
    "b). Repita el inciso anterior usando todos los método de reducción de varianza utilizados en el ejercicio *6*, para constrastar los resultados . Explique sus resultados."
   ]
  },
  {
   "cell_type": "markdown",
   "metadata": {},
   "source": [
    "<img src=\"https://wikimedia.org/api/rest_v1/media/math/render/svg/80a984ae034987174d331e67cecc1fbebe71cc27\"></img>"
   ]
  },
  {
   "cell_type": "markdown",
   "metadata": {},
   "source": [
    "$v = \\int_0^1dx = 1$"
   ]
  },
  {
   "cell_type": "code",
   "execution_count": 29,
   "metadata": {},
   "outputs": [],
   "source": [
    "A = n.pi/4\n",
    "f = lambda x:n.sqrt(1-x**2)\n",
    "seq = [100,1000,10000,1000000]\n",
    "res = list(map(lambda x:n.mean(list(map(lambda x:f(x),n.random.rand(x)))),seq))"
   ]
  },
  {
   "cell_type": "markdown",
   "metadata": {},
   "source": [
    "Use el método de muestreo estratificado con 5 estratos  $0≤𝐹(𝑥)≤0.3,0.3≤𝐹(𝑥)≤0.5,0.5≤𝐹(𝑥)≤0.7,0.7≤𝐹(𝑥)≤0.9  y  0.9≤𝐹(𝑥)≤1$ . Reparta el total de muestras en los estratos de la siguiente forma: estrato 1, 2, 3, 4, 5, 20%,20%,25%,15% y 20% de las muestras respectivamente."
   ]
  },
  {
   "cell_type": "code",
   "execution_count": 30,
   "metadata": {},
   "outputs": [],
   "source": [
    "strat = []\n",
    "for i in seq:\n",
    "    a,b,c = (int(.2*i),int(.25*i),int(.15*i))    \n",
    "    r1 = n.random.uniform(0,.3,a)\n",
    "    r2 = n.random.uniform(.3,.5,a)\n",
    "    r3 = n.random.uniform(.5,.7,b)\n",
    "    r4 = n.random.uniform(.7,.9,c)\n",
    "    r5 = n.random.uniform(.9,1,a)\n",
    "    r  = [r1,r2,r3,r4,r5]\n",
    "    m  = range(len(r))  # Cantidad de estratos\n",
    "    w  = [.3/a,.2/a,.2/b,.2/c,.1/a]\n",
    "    estrat1 = list(map(lambda r:n.array(list(map(f,r))),r))\n",
    "    muestras = list(map(lambda wi,xi:xi*wi,w,estrat1))\n",
    "    strat.append(n.concatenate(muestras).sum())    "
   ]
  },
  {
   "cell_type": "markdown",
   "metadata": {},
   "source": [
    "Use el método de los números complementarios."
   ]
  },
  {
   "cell_type": "code",
   "execution_count": 31,
   "metadata": {},
   "outputs": [],
   "source": [
    "comp=[n.mean([(f(u)+f(1-u))/2 for u in n.random.rand(i//2)]) for i in seq]"
   ]
  },
  {
   "cell_type": "markdown",
   "metadata": {},
   "source": [
    "Finalmente use el método de estratificación en el cúal se divide en N estratos."
   ]
  },
  {
   "cell_type": "code",
   "execution_count": 32,
   "metadata": {},
   "outputs": [],
   "source": [
    "partition = lambda B:(n.random.rand(B)+n.arange(B))/B\n",
    "Nstrat= [n.mean([f(x) for x in partition(i)]) for i in seq]"
   ]
  },
  {
   "cell_type": "code",
   "execution_count": 33,
   "metadata": {},
   "outputs": [
    {
     "data": {
      "text/html": [
       "<div>\n",
       "<style scoped>\n",
       "    .dataframe tbody tr th:only-of-type {\n",
       "        vertical-align: middle;\n",
       "    }\n",
       "\n",
       "    .dataframe tbody tr th {\n",
       "        vertical-align: top;\n",
       "    }\n",
       "\n",
       "    .dataframe thead th {\n",
       "        text-align: right;\n",
       "    }\n",
       "</style>\n",
       "<table border=\"1\" class=\"dataframe\">\n",
       "  <thead>\n",
       "    <tr style=\"text-align: right;\">\n",
       "      <th></th>\n",
       "      <th>Montecarlo</th>\n",
       "      <th>Error M</th>\n",
       "      <th>Estratificado</th>\n",
       "      <th>Error E</th>\n",
       "      <th>N Estratificado</th>\n",
       "      <th>Error NE</th>\n",
       "      <th>Complementarios</th>\n",
       "      <th>Error C</th>\n",
       "      <th>Analítico</th>\n",
       "    </tr>\n",
       "  </thead>\n",
       "  <tbody>\n",
       "    <tr>\n",
       "      <th>100</th>\n",
       "      <td>0.780419</td>\n",
       "      <td>-0.006340</td>\n",
       "      <td>0.793590</td>\n",
       "      <td>0.010430</td>\n",
       "      <td>0.786001</td>\n",
       "      <td>7.669798e-04</td>\n",
       "      <td>0.790610</td>\n",
       "      <td>0.006635</td>\n",
       "      <td>0.785398</td>\n",
       "    </tr>\n",
       "    <tr>\n",
       "      <th>1000</th>\n",
       "      <td>0.793169</td>\n",
       "      <td>0.009894</td>\n",
       "      <td>0.786658</td>\n",
       "      <td>0.001604</td>\n",
       "      <td>0.785410</td>\n",
       "      <td>1.519760e-05</td>\n",
       "      <td>0.784387</td>\n",
       "      <td>-0.001287</td>\n",
       "      <td>0.785398</td>\n",
       "    </tr>\n",
       "    <tr>\n",
       "      <th>10000</th>\n",
       "      <td>0.783141</td>\n",
       "      <td>-0.002873</td>\n",
       "      <td>0.784945</td>\n",
       "      <td>-0.000577</td>\n",
       "      <td>0.785398</td>\n",
       "      <td>3.195917e-07</td>\n",
       "      <td>0.786134</td>\n",
       "      <td>0.000937</td>\n",
       "      <td>0.785398</td>\n",
       "    </tr>\n",
       "    <tr>\n",
       "      <th>1000000</th>\n",
       "      <td>0.785292</td>\n",
       "      <td>-0.000136</td>\n",
       "      <td>0.785384</td>\n",
       "      <td>-0.000018</td>\n",
       "      <td>0.785398</td>\n",
       "      <td>-2.480069e-10</td>\n",
       "      <td>0.785254</td>\n",
       "      <td>-0.000184</td>\n",
       "      <td>0.785398</td>\n",
       "    </tr>\n",
       "  </tbody>\n",
       "</table>\n",
       "</div>"
      ],
      "text/plain": [
       "         Montecarlo   Error M  Estratificado   Error E  N Estratificado  \\\n",
       "100        0.780419 -0.006340       0.793590  0.010430         0.786001   \n",
       "1000       0.793169  0.009894       0.786658  0.001604         0.785410   \n",
       "10000      0.783141 -0.002873       0.784945 -0.000577         0.785398   \n",
       "1000000    0.785292 -0.000136       0.785384 -0.000018         0.785398   \n",
       "\n",
       "             Error NE  Complementarios   Error C  Analítico  \n",
       "100      7.669798e-04         0.790610  0.006635   0.785398  \n",
       "1000     1.519760e-05         0.784387 -0.001287   0.785398  \n",
       "10000    3.195917e-07         0.786134  0.000937   0.785398  \n",
       "1000000 -2.480069e-10         0.785254 -0.000184   0.785398  "
      ]
     },
     "execution_count": 33,
     "metadata": {},
     "output_type": "execute_result"
    }
   ],
   "source": [
    "import pandas as pd\n",
    "df =pd.DataFrame(res,index=seq,columns=['Montecarlo'])\n",
    "df['Error M'] = df['Montecarlo']/A -1\n",
    "df['Estratificado'] = strat\n",
    "df['Error E'] = df['Estratificado']/A -1\n",
    "df['N Estratificado'] = Nstrat\n",
    "df['Error NE'] = df['N Estratificado']/A -1\n",
    "df['Complementarios'] = comp\n",
    "df['Error C'] = df['Complementarios']/A -1\n",
    "df['Analítico'] = A\n",
    "df"
   ]
  },
  {
   "cell_type": "markdown",
   "metadata": {},
   "source": [
    "**Valor de los ejercicios**\n",
    "- 1- 2 puntos\n",
    "- 2- 2 puntos\n",
    "- 3- 1 punto\n",
    "- 4- 1 punto\n",
    "- 5- 3 puntos\n",
    "- 6- 1 punto"
   ]
  },
  {
   "cell_type": "markdown",
   "metadata": {},
   "source": [
    "<script>\n",
    "  $(document).ready(function(){\n",
    "    $('div.prompt').hide();\n",
    "    $('div.back-to-top').hide();\n",
    "    $('nav#menubar').hide();\n",
    "    $('.breadcrumb').hide();\n",
    "    $('.hidden-print').hide();\n",
    "  });\n",
    "</script>\n",
    "\n",
    "<footer id=\"attribution\" style=\"float:right; color:#808080; background:#fff;\">\n",
    "Created with Jupyter by Oscar David Jaramillo Zuluaga.\n",
    "</footer>"
   ]
  }
 ],
 "metadata": {
  "kernelspec": {
   "display_name": "Python 3",
   "language": "python",
   "name": "python3"
  },
  "language_info": {
   "codemirror_mode": {
    "name": "ipython",
    "version": 3
   },
   "file_extension": ".py",
   "mimetype": "text/x-python",
   "name": "python",
   "nbconvert_exporter": "python",
   "pygments_lexer": "ipython3",
   "version": "3.5.2"
  }
 },
 "nbformat": 4,
 "nbformat_minor": 2
}
