{
 "cells": [
  {
   "cell_type": "markdown",
   "metadata": {},
   "source": [
    "### Evalución del Primer Tema"
   ]
  },
  {
   "cell_type": "markdown",
   "metadata": {},
   "source": [
    "Carlos Alejandro Gutiérrez Sandoval"
   ]
  },
  {
   "cell_type": "code",
   "execution_count": 1,
   "metadata": {},
   "outputs": [],
   "source": [
    "from numpy import random as rdm\n",
    "import numpy as np\n",
    "from functools import reduce\n",
    "from matplotlib import pyplot as plt\n",
    "from copy import copy"
   ]
  },
  {
   "cell_type": "markdown",
   "metadata": {},
   "source": [
    "Un juego de lanzamiento de una moneda: Eres el afortunado ganador de un concurso de sorteos. Su\n",
    "premio es unas vacaciones con todos los gastos pagados en un hotel importante en Las Vegas, incluyendo\n",
    "algunas fichas para apostar en el casino del hotel. Al ingresar al casino, descubres que, adem´as de los\n",
    "juegos habituales (blackjack, ruleta, etc.), ofrecen un nuevo juego interesante con las siguientes reglas.\n",
    "Reglas del juego.\n",
    "1. Cada jugada del juego consiste en lanzar repetidamente una moneda imparcial hasta que la diferencia\n",
    "entre el n´umero de caras lanzadas y el número de sellos es 3.\n",
    "2. Si decides jugar el juego, debes pagar \\$1 por cada lanzamiento de la moneda. No puedes salir\n",
    "durante una jugada del juego.\n",
    "3. Usted recibe \\$8 al final de cada uno de los juego. Por lo tanto, ganas dinero si el número de\n",
    "lanzamientos requeridos es menor a 8, pero pierdes dinero si se requieren más de 8 lanzamientos. Con el\n",
    "juego planteado anteriormente, responda las siguientes preguntas:\n",
    "a) ¿Cuál es el promedio de tiradas hasta que termina un juego? ¿Cu´al es su desviación estándar? (dibuja\n",
    "su histograma).\n",
    "b) para el inciso anterior ¿Cuál es la probabilidad de que tires más de 10 veces para terminar un juego?\n",
    "¿ y de que tires menos de 5 veces?.\n",
    "c) Imagina que lanzas 100 tiros exactos la moneda. ¿Cuál es tu valor esperado de \\$\\$ ganado/perdido?\n",
    "**¿Y tu valor más probable?**¿Cuál es la probabilidad de ganar dinero? (Grafica el histograma de\n",
    "simulaciones).\n",
    "d) Imagina que comienzas con \\$ 30 ¿Cuál es el valor esperado del número de tiradas que debes realizar\n",
    "antes de quedarte sin dinero? ¿Cuál es la probabilidad de realizar más de 150 tiradas? (grafica el\n",
    "histograma correspondiente)."
   ]
  },
  {
   "cell_type": "code",
   "execution_count": 2,
   "metadata": {},
   "outputs": [],
   "source": [
    "class game:              \n",
    "    def __init__(self):\n",
    "        self.restart()\n",
    "        \n",
    "    def play(self,**kwargs):                  \n",
    "        while abs(self.diff) != 3:\n",
    "            self.nextround()\n",
    "        self.cashIn()          \n",
    "        #print('Juego Completo.')\n",
    "        return self.stats()\n",
    "    \n",
    "    def nextround(self):\n",
    "        self.p_l -= 1\n",
    "        self.rounds += 1\n",
    "        self.diff +=self.headOrTails()\n",
    "        \n",
    "        \n",
    "    def headOrTails(self):\n",
    "        return 1 if rdm.uniform(0,1)<.5 else -1\n",
    "    \n",
    "    def results(self):\n",
    "        print('Resultados:\\n')\n",
    "        print(self.stats())\n",
    "        return self\n",
    "        \n",
    "    def restart(self):        \n",
    "        self.diff = 0\n",
    "        self.payout = 8\n",
    "        self.cost = 1\n",
    "        self.rounds = 0\n",
    "        self.p_l = 0\n",
    "        return self         \n",
    "    \n",
    "    def stats(self):\n",
    "#         return {'Ganancia':self.p_l,'Rounds':self.rounds}\n",
    "        return [self.p_l,self.rounds]\n",
    "        \n",
    "    def nRounds(self,rounds):\n",
    "        while(self.rounds < rounds):\n",
    "            self.nextround()\n",
    "            self.cashIn()                \n",
    "        return self\n",
    "    \n",
    "    def outofmoney(self,money):\n",
    "        self.p_l += money\n",
    "        while(self.p_l > 0):\n",
    "            self.nextround()\n",
    "            self.cashIn()\n",
    "        return self.stats()\n",
    "            \n",
    "    def cashIn(self):\n",
    "        if(abs(self.diff) == 3):\n",
    "                self.p_l+=self.payout\n",
    "                self.diff=0      "
   ]
  },
  {
   "cell_type": "code",
   "execution_count": 3,
   "metadata": {},
   "outputs": [],
   "source": [
    "juegos = 1000\n",
    "newgame = game()\n",
    "resultados = [newgame.restart().play() for i in range(juegos)]\n",
    "# rounds\n",
    "ganancias,rounds = zip(*resultados)"
   ]
  },
  {
   "cell_type": "markdown",
   "metadata": {},
   "source": [
    "a) ¿Cuál es el promedio de tiradas hasta que termina un juego? ¿Cuál es su desviación estándar? (dibuja su histograma)."
   ]
  },
  {
   "cell_type": "code",
   "execution_count": 4,
   "metadata": {},
   "outputs": [
    {
     "name": "stdout",
     "output_type": "stream",
     "text": [
      "Media:\n",
      " 9.074\n"
     ]
    }
   ],
   "source": [
    "print('Media:\\n',np.mean(rounds))\n",
    "# print('Mediana de rounds: \\n',reduce(lambda x,y:x + y[1],resultados,0)/juegos)"
   ]
  },
  {
   "cell_type": "code",
   "execution_count": 5,
   "metadata": {},
   "outputs": [
    {
     "name": "stdout",
     "output_type": "stream",
     "text": [
      "Desv.:\n",
      " 7.306881961548305\n"
     ]
    }
   ],
   "source": [
    "print('Desv.:\\n',np.std(rounds))"
   ]
  },
  {
   "cell_type": "code",
   "execution_count": 6,
   "metadata": {},
   "outputs": [
    {
     "data": {
      "image/png": "[encoded data removed]",
      "text/plain": [
       "<Figure size 432x288 with 1 Axes>"
      ]
     },
     "metadata": {},
     "output_type": "display_data"
    }
   ],
   "source": [
    "plt.hist(rounds,bins=30)\n",
    "plt.show()"
   ]
  },
  {
   "cell_type": "markdown",
   "metadata": {},
   "source": [
    " b) para el inciso anterior ¿Cuál es la probabilidad de que tires más de 10 veces para terminar un juego? ¿ y de que tires menos de 5 veces?."
   ]
  },
  {
   "cell_type": "code",
   "execution_count": 7,
   "metadata": {},
   "outputs": [
    {
     "name": "stdout",
     "output_type": "stream",
     "text": [
      "Probabilidad de tirar más de 10 veces: \n",
      " 0.308\n"
     ]
    }
   ],
   "source": [
    "print('Probabilidad de tirar más de 10 veces: \\n',reduce(lambda x,y: x + 1 if y > 10 else x,rounds,0)/juegos)"
   ]
  },
  {
   "cell_type": "code",
   "execution_count": 8,
   "metadata": {},
   "outputs": [
    {
     "name": "stdout",
     "output_type": "stream",
     "text": [
      "Probabilidad de tirar menos de 5 veces: \n",
      " 0.261\n"
     ]
    }
   ],
   "source": [
    "print('Probabilidad de tirar menos de 5 veces: \\n',reduce(lambda x,y: x + 1 if y < 5 else x,rounds,0)/juegos)"
   ]
  },
  {
   "cell_type": "markdown",
   "metadata": {},
   "source": [
    "c) Imagina que lanzas 100 tiros exactos la moneda. **¿Cuál es tu valor esperado de $$ ganado/perdido?** ¿Y tu valor más probable?¿Cuál es la probabilidad de ganar dinero? (Grafica el histograma de simulaciones). "
   ]
  },
  {
   "cell_type": "code",
   "execution_count": 9,
   "metadata": {},
   "outputs": [
    {
     "name": "stdout",
     "output_type": "stream",
     "text": [
      "Esperado:\n",
      " -11.912\n",
      "Valor más probable -4; Counts 171\n"
     ]
    },
    {
     "data": {
      "image/png": "[encoded data removed]",
      "text/plain": [
       "<Figure size 432x288 with 1 Axes>"
      ]
     },
     "metadata": {},
     "output_type": "display_data"
    },
    {
     "name": "stdout",
     "output_type": "stream",
     "text": [
      "Probabilidad de ganar dinero: \n",
      " 0.257\n"
     ]
    }
   ],
   "source": [
    "rondas,juegos = 100,1000\n",
    "pl = [newgame.restart().nRounds(rondas).stats()[0] for i in range(juegos)]\n",
    "from scipy.stats import mode\n",
    "print('Esperado:\\n',np.mean(pl))\n",
    "moda,count = mode(pl)\n",
    "print('Valor más probable {}; Counts {}'.format(moda[0],count[0]))\n",
    "plt.hist(pl,bins=28)\n",
    "plt.show()\n",
    "print('Probabilidad de ganar dinero: \\n',\n",
    "      reduce(lambda x,y: x + 1 if y > 0 else x,pl,0)/juegos)"
   ]
  },
  {
   "cell_type": "markdown",
   "metadata": {},
   "source": [
    "d) Imagina que comienzas con $ 30 ¿Cuál es el valor esperado del número de tiradas que debes realizar antes de quedarte sin dinero? ¿Cuál es la probabilidad de realizar más de 150 tiradas? (grafica el histograma correspondiente)."
   ]
  },
  {
   "cell_type": "code",
   "execution_count": 10,
   "metadata": {},
   "outputs": [
    {
     "name": "stdout",
     "output_type": "stream",
     "text": [
      "Probabilidad de realizar más de 150 tiradas: \n",
      " 0.503\n"
     ]
    }
   ],
   "source": [
    "juegos = 1000\n",
    "newgame = game()\n",
    "tiros = [newgame.restart().outofmoney(30)[1] for i in range(juegos)]\n",
    "# rounds\n",
    "# ganancias,rounds = zip(*resultados)\n",
    "\n",
    "print('Probabilidad de realizar más de 150 tiradas: \\n',\n",
    "      reduce(lambda x,y: x + 1 if y > 150 else x,tiros,0)/juegos)"
   ]
  },
  {
   "cell_type": "code",
   "execution_count": 11,
   "metadata": {},
   "outputs": [
    {
     "data": {
      "image/png": "[encoded data removed]",
      "text/plain": [
       "<Figure size 432x288 with 1 Axes>"
      ]
     },
     "metadata": {},
     "output_type": "display_data"
    }
   ],
   "source": [
    "plt.hist(tiros,bins=30)\n",
    "plt.show()"
   ]
  },
  {
   "cell_type": "markdown",
   "metadata": {},
   "source": [
    "Jessica Williams, gerente de Kitchen Appliances para Midtown Department Store, siente que sus niveles\n",
    "de inventario de estufas han estado funcionando m´as de lo necesario. Antes de revisar la pol´ıtica de\n",
    "inventario de estufas, registra el n´umero vendido cada d´ıa durante un per´ıodo de 25 d´ıas, como se resume\n",
    "a continuaci´on.\n",
    "Cuadro 1: Tabla de ventas vs n´umero de d´ıas\n",
    "\n",
    "|Maquinas vendidas| 2| 3| 4| 5| 6|\n",
    "| :-----:|| -----:|| -----:|| -----:|| -----:|| -----:|\n",
    "|Número de días| 4| 7| 8| 5| 1|\n",
    "Graficar el histograma y calcular el promedio de ventas usando python y la f´ormula te´orica de valor\n",
    "esperado."
   ]
  },
  {
   "cell_type": "code",
   "execution_count": 12,
   "metadata": {},
   "outputs": [
    {
     "data": {
      "image/png": "[encoded data removed]",
      "text/plain": [
       "<Figure size 432x288 with 1 Axes>"
      ]
     },
     "metadata": {},
     "output_type": "display_data"
    },
    {
     "name": "stdout",
     "output_type": "stream",
     "text": [
      "E[x]:\n",
      " 3.68\n"
     ]
    },
    {
     "data": {
      "image/png": "[encoded data removed]",
      "text/plain": [
       "<Figure size 432x288 with 1 Axes>"
      ]
     },
     "metadata": {},
     "output_type": "display_data"
    },
    {
     "name": "stdout",
     "output_type": "stream",
     "text": [
      "E[x]:\n",
      " 3.68\n"
     ]
    }
   ],
   "source": [
    "ventas=[2,3,4,5,6]\n",
    "dias=[4,7,8,5,1]\n",
    "\n",
    "'''Primera forma'''\n",
    "plt.hist(ventas,weights=dias)\n",
    "plt.show()\n",
    "print('E[x]:\\n',reduce(lambda x,y:x+y,map(lambda x,y: x*y, ventas,dias))/sum(dias))\n",
    "\n",
    "'''Segunda forma'''\n",
    "a = map(lambda x,y:[x]*y,ventas,dias)\n",
    "flattened = [j for i in a for j in i]\n",
    "plt.hist(flattened)\n",
    "plt.show()\n",
    "print('E[x]:\\n',sum(flattened)/len(flattened))"
   ]
  },
  {
   "cell_type": "markdown",
   "metadata": {},
   "source": [
    "3. Rustbelt Manufacturing Company emplea un equipo de mantenimiento para reparar sus máquinas según sea necesario. La gerencia ahora quiere un estudio de simulación para analizar cuál debe ser el tamaño de la tripulación, donde los tamaños de la cuadrilla considerados son 2, 3 y 4. El tiempo requerido por la cuadrilla para reparar una máquina tiene una distribución uniforme durante el intervalo de 0 a dos veces la media, donde la media depende del tamaño de la cuadrilla. La media es de 4 horas con dos miembros de la cuadrilla, 3 horas con tres miembros de la cuadrilla y 2 horas con cuatro miembros de la cuadrilla.\n",
    "\n",
    "    El tiempo entre las interrupciones de alguna máquina tiene una distribución uniforme de entre 3.5 y 9 horas. Cuando una máquina se descompone y por lo tanto requiere reparación, la gerencia desea realizar los siguientes análisis:\n",
    "\n",
    "    **Nota: Se quiere analizar el tiempo de espera de una máquina descompuesta, por lo tanto se tienen que analizar los tiempos de reparación y los tiempos de descomposición y ver si cuando se daña una nueva máquina todavía están reparando una máquina anterior o ya la repararon.**\n",
    "    \n",
    "    a) Comienza con una cuadrilla de tamaño 2, ¿Cuál es el tiempo medio de espera para reparar la máquina? ¿Cuál es la probabilidad de que una máquina tenga que esperar más de 8 horas para ser reparada? (dibuja el histograma correspondiente).\n",
    "    \n",
    "    b) Repita el inciso a) pero para una cuadrilla de tamaño 3, ¿Cuál es el tiempo medio de espera para reparar la máquina? ¿Cuál es la probabilidad de que una máquina tenga que esperar más de 3 horas para ser reparada? (dibuja el histograma correspondiente).\n",
    "    c) Repita el inciso b) para una cuadrilla de tamaño 4."
   ]
  },
  {
   "cell_type": "code",
   "execution_count": 13,
   "metadata": {},
   "outputs": [],
   "source": [
    "class repair:    \n",
    "    medias = {2:4,3:3,4:2}    \n",
    "    def __init__(self,cuadrilla):\n",
    "        assert(cuadrilla in [2,3,4])\n",
    "        self.cuadrilla = cuadrilla\n",
    "        self.media = self.medias[cuadrilla]                \n",
    "        self.breakTime = lambda: rdm.uniform(3.5,9)\n",
    "        self.repair = lambda: rdm.uniform(0,self.media*2)\n",
    "    \n",
    "    def sim(self,it):\n",
    "        rango = range(it)\n",
    "        Z2 = [self.repair() for i in rango]\n",
    "        Z1 = [self.breakTime() for i in rango]\n",
    "        Dt = copy(Z2)\n",
    "        for i in range(1,it):\n",
    "            famma = Dt[i-1]-Z1[i-1] if Dt[i-1]-Z1[i-1]>0 else 0    \n",
    "            Dt[i]+=famma\n",
    "        return list(map(lambda x,y:x-y if x-y>0 else 0,Dt,Z1))\n",
    "    "
   ]
  },
  {
   "cell_type": "code",
   "execution_count": 14,
   "metadata": {},
   "outputs": [
    {
     "name": "stdout",
     "output_type": "stream",
     "text": [
      "E[x]:\n",
      " [0.6148161633728857, 0.6017107183241045, 0.6163888654504797, 0.6057485459488064, 0.5919573575006751, 0.6011506451038496, 0.5975989178217394, 0.5950054158545681, 0.5923072398509898, 0.6062994647535417]\n",
      "Probabilidad de esperar más de 8 horas: \n",
      " 0.0025\n"
     ]
    },
    {
     "data": {
      "image/png": "[encoded data removed]",
      "text/plain": [
       "<Figure size 432x288 with 1 Axes>"
      ]
     },
     "metadata": {},
     "output_type": "display_data"
    }
   ],
   "source": [
    "cuadrilla = repair(2)\n",
    "sims = 100000\n",
    "espera = cuadrilla.sim(sims)\n",
    "print('E[x]:\\n',[np.mean(cuadrilla.sim(sims)) for i in range(10)])\n",
    "print('Probabilidad de esperar más de 8 horas: \\n',reduce(lambda x,y: x + 1 if y > 8 else x,espera,0)/sims)\n",
    "plt.hist(espera,bins=45)\n",
    "plt.show()"
   ]
  },
  {
   "cell_type": "code",
   "execution_count": 15,
   "metadata": {},
   "outputs": [
    {
     "name": "stdout",
     "output_type": "stream",
     "text": [
      "E[x]:\n",
      " [0.09261572155648164, 0.09353258695988989, 0.09260823423211437, 0.09327436780816872, 0.0940562382572409, 0.09417178873195771, 0.09364933206045473, 0.09379518285452357, 0.09479872238773385, 0.09524775421393643]\n",
      "Probabilidad de esperar más de 3 horas: \n",
      " 0.00093\n"
     ]
    },
    {
     "data": {
      "image/png": "[encoded data removed]",
      "text/plain": [
       "<Figure size 432x288 with 1 Axes>"
      ]
     },
     "metadata": {},
     "output_type": "display_data"
    }
   ],
   "source": [
    "cuadrilla = repair(3)\n",
    "sims = 100000\n",
    "espera = cuadrilla.sim(sims)\n",
    "print('E[x]:\\n',[np.mean(cuadrilla.sim(sims)) for i in range(10)])\n",
    "print('Probabilidad de esperar más de 3 horas: \\n',reduce(lambda x,y: x + 1 if y > 3 else x,espera,0)/sims)\n",
    "plt.hist(espera,bins=45)\n",
    "plt.show()"
   ]
  },
  {
   "cell_type": "code",
   "execution_count": 16,
   "metadata": {},
   "outputs": [
    {
     "name": "stdout",
     "output_type": "stream",
     "text": [
      "E[x]:\n",
      " [0.0009987646560237061, 0.0009738399441872349, 0.0009058044980113754, 0.0009540874957896535, 0.0009792703378502011, 0.0009173808875853912, 0.0009822694288657851, 0.0009592596404365629, 0.0009621778085929461, 0.0010605714868329986]\n",
      "Probabilidad de esperar más de 3 horas: \n",
      " 0.0\n"
     ]
    },
    {
     "data": {
      "image/png": "[encoded data removed]",
      "text/plain": [
       "<Figure size 432x288 with 1 Axes>"
      ]
     },
     "metadata": {},
     "output_type": "display_data"
    }
   ],
   "source": [
    "cuadrilla = repair(4)\n",
    "sims = 100000\n",
    "espera = cuadrilla.sim(sims)\n",
    "print('E[x]:\\n',[np.mean(cuadrilla.sim(sims)) for i in range(10)])\n",
    "print('Probabilidad de esperar más de 3 horas: \\n',reduce(lambda x,y: x + 1 if y > 3 else x,espera,0)/sims)\n",
    "plt.hist(espera,bins=45)\n",
    "plt.show()"
   ]
  },
  {
   "cell_type": "markdown",
   "metadata": {},
   "source": [
    "4. El juego de dados requiere que el jugador arroje dos dados una o más veces hasta que se llegue a una\n",
    "decisión sobre si él (o ella) gana o pierde. El gana si la primera tirada resulta en una suma de 7 u 11 ó, alternativamente, si la primera suma es 4, 5, 6, 8, 9 o 10 y la misma suma reaparece antes de que\n",
    "aparezca una suma de 7. Por el contrario, pierde si la primera tirada resulta en una suma de 2, 3 o 12 o,\n",
    "alternativamente, si la primera suma es 4, 5, 6, 8, 9 o 10 y aparece una suma de 7 antes de la primera\n",
    "suma reaparece.\n",
    "a) calcule la probabilidad de ganar corriendo 10,000 simulaciones.\n"
   ]
  },
  {
   "cell_type": "code",
   "execution_count": 17,
   "metadata": {},
   "outputs": [],
   "source": [
    "class craps:\n",
    "    \n",
    "    def __init__(self):\n",
    "        self.roll = lambda :rdm.randint(1,7)\n",
    "    \n",
    "    def play(self):         \n",
    "        return self.win(None,self.throw())\n",
    "        \n",
    "    def win(self,prior,dice):\n",
    "#         print(prior,dice)\n",
    "        if not prior:\n",
    "            if dice in [7,11]:\n",
    "                return True\n",
    "            if dice in [2,3,12]:\n",
    "                return False\n",
    "            return self.win(dice,self.throw())\n",
    "        else:\n",
    "            if dice == 7:\n",
    "                return False\n",
    "            if prior == dice:\n",
    "                return True\n",
    "            return self.win(prior,self.throw())\n",
    "        \n",
    "    def throw(self):\n",
    "        return self.roll() + self.roll()\n",
    "    \n",
    "    def playN(self,balance,bet,iters):        \n",
    "        return reduce(lambda x,y: x+bet if self.play() else x-bet,range(iters),balance)\n",
    "        "
   ]
  },
  {
   "cell_type": "code",
   "execution_count": 18,
   "metadata": {},
   "outputs": [],
   "source": [
    "dados = craps()"
   ]
  },
  {
   "cell_type": "code",
   "execution_count": 19,
   "metadata": {},
   "outputs": [
    {
     "name": "stdout",
     "output_type": "stream",
     "text": [
      "Probabilidad de ganar en 10000 juegos\n",
      " 0.4923\n"
     ]
    }
   ],
   "source": [
    "it = 10000\n",
    "print('Probabilidad de ganar en {} juegos\\n'.format(it),np.sum([dados.play() for i in range(it)])/it)"
   ]
  },
  {
   "cell_type": "markdown",
   "metadata": {},
   "source": [
    "b) Imagina que cada juego ganas o pierdes \\$50. Si inicias con $500. **¿Cuál es tu valor esperado de dinero\n",
    "después de 10 juegos? ¿y el más probable? ¿Cuál es la probabilidad de ganar dinero?.**"
   ]
  },
  {
   "cell_type": "code",
   "execution_count": 20,
   "metadata": {},
   "outputs": [
    {
     "name": "stdout",
     "output_type": "stream",
     "text": [
      "Balance después de 10 juegos: $500\n",
      "\n"
     ]
    }
   ],
   "source": [
    "it1 = 10\n",
    "sims1=10000\n",
    "print('Balance después de {} juegos: ${}\\n'.format(it1,dados.playN(500,50,it1)))"
   ]
  },
  {
   "cell_type": "code",
   "execution_count": 21,
   "metadata": {},
   "outputs": [],
   "source": [
    "juegos = list(map(lambda x:dados.playN(500,50,it1),range(sims1)))"
   ]
  },
  {
   "cell_type": "code",
   "execution_count": 22,
   "metadata": {},
   "outputs": [
    {
     "name": "stdout",
     "output_type": "stream",
     "text": [
      "E[x],x:balance de juego a diez pasos. 492.91\n"
     ]
    }
   ],
   "source": [
    "print('E[x],x:balance de juego a diez pasos. {}'\n",
    "      .format(np.mean(juegos)))"
   ]
  },
  {
   "cell_type": "code",
   "execution_count": 23,
   "metadata": {},
   "outputs": [
    {
     "name": "stdout",
     "output_type": "stream",
     "text": [
      "Probabilidad de ganar 0.3536.\n"
     ]
    }
   ],
   "source": [
    "res = reduce(lambda x,y:x+1 if y>500 else x,juegos,0)/sims1\n",
    "print('Probabilidad de ganar {}.'.format(res))"
   ]
  },
  {
   "cell_type": "markdown",
   "metadata": {},
   "source": [
    "5. Una inversión en cetes actualmente promete un rendimiento que va entre el 8 % y el 12 % anual.\n",
    "\n",
    "a) Considera la cantidad total de dinero que obtendrás al final del año dado una inversión inicial de\n",
    "\\$300000. Realiza un programa que simule 10,000 escenarios diferentes que puedan suceder, calcula\n",
    "su media, su desviación estándar y grafica su histograma."
   ]
  },
  {
   "cell_type": "code",
   "execution_count": 31,
   "metadata": {},
   "outputs": [
    {
     "name": "stdout",
     "output_type": "stream",
     "text": [
      "E[x]:330052.34273350076\n",
      "Desv[x]:3477.4541149220313\n"
     ]
    },
    {
     "data": {
      "image/png": "[encoded data removed]",
      "text/plain": [
       "<Figure size 432x288 with 1 Axes>"
      ]
     },
     "metadata": {},
     "output_type": "display_data"
    }
   ],
   "source": [
    "inicial = 300000\n",
    "its = 10000\n",
    "sims = [inicial*(1+(.12-.08)*rdm.rand()+.08) for i in range(its)]\n",
    "print('E[x]:{}'.format(np.mean(sims)))\n",
    "print('Desv[x]:{}'.format(np.std(sims)))\n",
    "plt.hist(sims,bins=50)\n",
    "plt.show()"
   ]
  },
  {
   "cell_type": "markdown",
   "metadata": {},
   "source": [
    "b) Ahora supón que dejas el dinero durante 6 años, Realiza un programa que simule 10,000 escenarios\n",
    "diferentes que puedan suceder, calcula su media, su desviación estándar y grafica su histograma."
   ]
  },
  {
   "cell_type": "code",
   "execution_count": 32,
   "metadata": {},
   "outputs": [
    {
     "name": "stdout",
     "output_type": "stream",
     "text": [
      "E[x]:531324.719986673\n",
      "Desv[x]:13615.472694606322\n"
     ]
    },
    {
     "data": {
      "image/png": "[encoded data removed]",
      "text/plain": [
       "<Figure size 432x288 with 1 Axes>"
      ]
     },
     "metadata": {},
     "output_type": "display_data"
    }
   ],
   "source": [
    "mult = lambda:reduce(lambda x,y:x*(1+(.12-.08)*y+.08),rdm.rand(6),1)    \n",
    "sims = [inicial*mult() for i in range(its)]\n",
    "print('E[x]:{}'.format(np.mean(sims)))\n",
    "print('Desv[x]:{}'.format(np.std(sims)))\n",
    "plt.hist(sims,bins=50)\n",
    "plt.show()"
   ]
  },
  {
   "cell_type": "markdown",
   "metadata": {},
   "source": [
    "¿Cuál es la probabilidad de ganar más de \\$**58000**? ¿Cuál es la probabilidad de ganar menos de\n",
    "\\$ 55000?.\n"
   ]
  },
  {
   "cell_type": "code",
   "execution_count": 33,
   "metadata": {},
   "outputs": [
    {
     "name": "stdout",
     "output_type": "stream",
     "text": [
      "Probabilidad de ganar más de 580000: 0.0001\n",
      "\n"
     ]
    }
   ],
   "source": [
    "print('Probabilidad de ganar más de 580000: {}\\n'.format(reduce(lambda x,y: x+1 if y>580000 else x,sims,0)/its))"
   ]
  },
  {
   "cell_type": "code",
   "execution_count": 34,
   "metadata": {},
   "outputs": [
    {
     "name": "stdout",
     "output_type": "stream",
     "text": [
      "Probabilidad de ganar menos de 550000: 0.9077\n",
      "\n"
     ]
    }
   ],
   "source": [
    "print('Probabilidad de ganar menos de 550000: {}\\n'.format(reduce(lambda x,y: x+1 if y<550000 else x,sims,0)/its))"
   ]
  },
  {
   "cell_type": "markdown",
   "metadata": {},
   "source": [
    "c) Repite el inciso b), pero suponiendo que el rendimiento es discreto, es decir, solo puede tomar los valores enteros 8,9,10,11,12. ¿Cuál es la probabilidad de ganar entre \\$53000 y \\$56000?"
   ]
  },
  {
   "cell_type": "code",
   "execution_count": 28,
   "metadata": {},
   "outputs": [
    {
     "name": "stdout",
     "output_type": "stream",
     "text": [
      "E[x]:517197.54445056955\n",
      "Desv[x]:13014.544718465013\n"
     ]
    },
    {
     "data": {
      "image/png": "[encoded data removed]",
      "text/plain": [
       "<Figure size 432x288 with 1 Axes>"
      ]
     },
     "metadata": {},
     "output_type": "display_data"
    }
   ],
   "source": [
    "mult = lambda:reduce(lambda x,y:x*(1+y/100),rdm.randint(8,12,6),1)    \n",
    "sims = [inicial*mult() for i in range(its)]\n",
    "print('E[x]:{}'.format(np.mean(sims)))\n",
    "print('Desv[x]:{}'.format(np.std(sims)))\n",
    "plt.hist(sims,bins=30)\n",
    "plt.show()"
   ]
  },
  {
   "cell_type": "code",
   "execution_count": 29,
   "metadata": {},
   "outputs": [
    {
     "name": "stdout",
     "output_type": "stream",
     "text": [
      "Probabilidad de ganar más de 560000: 0.0001\n",
      "\n"
     ]
    }
   ],
   "source": [
    "print('Probabilidad de ganar más de 560000: {}\\n'.format(reduce(lambda x,y: x+1 if y>560000 else x,sims,0)/its))"
   ]
  },
  {
   "cell_type": "code",
   "execution_count": 30,
   "metadata": {},
   "outputs": [
    {
     "name": "stdout",
     "output_type": "stream",
     "text": [
      "Probabilidad de ganar menos de 530000: 0.8122\n",
      "\n"
     ]
    }
   ],
   "source": [
    "print('Probabilidad de ganar menos de 530000: {}\\n'.format(reduce(lambda x,y: x+1 if y<530000 else x,sims,0)/its))"
   ]
  }
 ],
 "metadata": {
  "kernelspec": {
   "display_name": "Python 3",
   "language": "python",
   "name": "python3"
  },
  "language_info": {
   "codemirror_mode": {
    "name": "ipython",
    "version": 3
   },
   "file_extension": ".py",
   "mimetype": "text/x-python",
   "name": "python",
   "nbconvert_exporter": "python",
   "pygments_lexer": "ipython3",
   "version": "3.6.5"
  }
 },
 "nbformat": 4,
 "nbformat_minor": 2
}
